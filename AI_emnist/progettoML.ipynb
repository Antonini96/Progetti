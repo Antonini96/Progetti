{
 "cells": [
  {
   "cell_type": "markdown",
   "id": "97582864-d7fd-47d3-a273-645c76a0c2ae",
   "metadata": {},
   "source": [
    "Installa la libreria tensorflow, libreria specializzata per le DNNs."
   ]
  },
  {
   "cell_type": "code",
   "execution_count": 4,
   "id": "8dca721d-af7e-4526-8682-de6e432f9e0b",
   "metadata": {
    "collapsed": true,
    "jupyter": {
     "outputs_hidden": true
    },
    "tags": []
   },
   "outputs": [
    {
     "name": "stdout",
     "output_type": "stream",
     "text": [
      "Requirement already satisfied: tensorflow in c:\\users\\3204480343\\downloads\\anaconda3\\lib\\site-packages (2.15.0)"
     ]
    },
    {
     "name": "stderr",
     "output_type": "stream",
     "text": [
      "Error processing line 1 of C:\\Users\\3204480343\\Downloads\\anaconda3\\lib\\site-packages\\vision-1.0.0-py3.10-nspkg.pth:\n",
      "\n",
      "  Traceback (most recent call last):\n",
      "    File \"C:\\Users\\3204480343\\Downloads\\anaconda3\\lib\\site.py\", line 186, in addpackage\n",
      "      exec(line)\n",
      "    File \"<string>\", line 1, in <module>\n",
      "    File \"<frozen importlib._bootstrap>\", line 568, in module_from_spec\n",
      "  AttributeError: 'NoneType' object has no attribute 'loader'\n",
      "\n",
      "Remainder of file ignored\n",
      "\n",
      "[notice] A new release of pip is available: 23.2.1 -> 23.3.2\n",
      "[notice] To update, run: python.exe -m pip install --upgrade pip\n"
     ]
    },
    {
     "name": "stdout",
     "output_type": "stream",
     "text": [
      "\n",
      "Requirement already satisfied: tensorflow-intel==2.15.0 in c:\\users\\3204480343\\downloads\\anaconda3\\lib\\site-packages (from tensorflow) (2.15.0)\n",
      "Requirement already satisfied: absl-py>=1.0.0 in c:\\users\\3204480343\\downloads\\anaconda3\\lib\\site-packages (from tensorflow-intel==2.15.0->tensorflow) (2.1.0)\n",
      "Requirement already satisfied: astunparse>=1.6.0 in c:\\users\\3204480343\\downloads\\anaconda3\\lib\\site-packages (from tensorflow-intel==2.15.0->tensorflow) (1.6.3)\n",
      "Requirement already satisfied: flatbuffers>=23.5.26 in c:\\users\\3204480343\\downloads\\anaconda3\\lib\\site-packages (from tensorflow-intel==2.15.0->tensorflow) (23.5.26)\n",
      "Requirement already satisfied: gast!=0.5.0,!=0.5.1,!=0.5.2,>=0.2.1 in c:\\users\\3204480343\\downloads\\anaconda3\\lib\\site-packages (from tensorflow-intel==2.15.0->tensorflow) (0.5.4)\n",
      "Requirement already satisfied: google-pasta>=0.1.1 in c:\\users\\3204480343\\downloads\\anaconda3\\lib\\site-packages (from tensorflow-intel==2.15.0->tensorflow) (0.2.0)\n",
      "Requirement already satisfied: h5py>=2.9.0 in c:\\users\\3204480343\\downloads\\anaconda3\\lib\\site-packages (from tensorflow-intel==2.15.0->tensorflow) (3.7.0)\n",
      "Requirement already satisfied: libclang>=13.0.0 in c:\\users\\3204480343\\downloads\\anaconda3\\lib\\site-packages (from tensorflow-intel==2.15.0->tensorflow) (16.0.6)\n",
      "Requirement already satisfied: ml-dtypes~=0.2.0 in c:\\users\\3204480343\\downloads\\anaconda3\\lib\\site-packages (from tensorflow-intel==2.15.0->tensorflow) (0.2.0)\n",
      "Requirement already satisfied: numpy<2.0.0,>=1.23.5 in c:\\users\\3204480343\\downloads\\anaconda3\\lib\\site-packages (from tensorflow-intel==2.15.0->tensorflow) (1.23.5)\n",
      "Requirement already satisfied: opt-einsum>=2.3.2 in c:\\users\\3204480343\\downloads\\anaconda3\\lib\\site-packages (from tensorflow-intel==2.15.0->tensorflow) (3.3.0)\n",
      "Requirement already satisfied: packaging in c:\\users\\3204480343\\downloads\\anaconda3\\lib\\site-packages (from tensorflow-intel==2.15.0->tensorflow) (22.0)\n",
      "Requirement already satisfied: protobuf!=4.21.0,!=4.21.1,!=4.21.2,!=4.21.3,!=4.21.4,!=4.21.5,<5.0.0dev,>=3.20.3 in c:\\users\\3204480343\\downloads\\anaconda3\\lib\\site-packages (from tensorflow-intel==2.15.0->tensorflow) (4.23.4)\n",
      "Requirement already satisfied: setuptools in c:\\users\\3204480343\\downloads\\anaconda3\\lib\\site-packages (from tensorflow-intel==2.15.0->tensorflow) (65.6.3)\n",
      "Requirement already satisfied: six>=1.12.0 in c:\\users\\3204480343\\downloads\\anaconda3\\lib\\site-packages (from tensorflow-intel==2.15.0->tensorflow) (1.16.0)\n",
      "Requirement already satisfied: termcolor>=1.1.0 in c:\\users\\3204480343\\downloads\\anaconda3\\lib\\site-packages (from tensorflow-intel==2.15.0->tensorflow) (2.4.0)\n",
      "Requirement already satisfied: typing-extensions>=3.6.6 in c:\\users\\3204480343\\downloads\\anaconda3\\lib\\site-packages (from tensorflow-intel==2.15.0->tensorflow) (4.4.0)\n",
      "Requirement already satisfied: wrapt<1.15,>=1.11.0 in c:\\users\\3204480343\\downloads\\anaconda3\\lib\\site-packages (from tensorflow-intel==2.15.0->tensorflow) (1.14.1)\n",
      "Requirement already satisfied: tensorflow-io-gcs-filesystem>=0.23.1 in c:\\users\\3204480343\\downloads\\anaconda3\\lib\\site-packages (from tensorflow-intel==2.15.0->tensorflow) (0.31.0)\n",
      "Requirement already satisfied: grpcio<2.0,>=1.24.3 in c:\\users\\3204480343\\downloads\\anaconda3\\lib\\site-packages (from tensorflow-intel==2.15.0->tensorflow) (1.60.0)\n",
      "Requirement already satisfied: tensorboard<2.16,>=2.15 in c:\\users\\3204480343\\downloads\\anaconda3\\lib\\site-packages (from tensorflow-intel==2.15.0->tensorflow) (2.15.1)\n",
      "Requirement already satisfied: tensorflow-estimator<2.16,>=2.15.0 in c:\\users\\3204480343\\downloads\\anaconda3\\lib\\site-packages (from tensorflow-intel==2.15.0->tensorflow) (2.15.0)\n",
      "Requirement already satisfied: keras<2.16,>=2.15.0 in c:\\users\\3204480343\\downloads\\anaconda3\\lib\\site-packages (from tensorflow-intel==2.15.0->tensorflow) (2.15.0)\n",
      "Requirement already satisfied: wheel<1.0,>=0.23.0 in c:\\users\\3204480343\\downloads\\anaconda3\\lib\\site-packages (from astunparse>=1.6.0->tensorflow-intel==2.15.0->tensorflow) (0.38.4)\n",
      "Requirement already satisfied: google-auth<3,>=1.6.3 in c:\\users\\3204480343\\downloads\\anaconda3\\lib\\site-packages (from tensorboard<2.16,>=2.15->tensorflow-intel==2.15.0->tensorflow) (2.27.0)\n",
      "Requirement already satisfied: google-auth-oauthlib<2,>=0.5 in c:\\users\\3204480343\\downloads\\anaconda3\\lib\\site-packages (from tensorboard<2.16,>=2.15->tensorflow-intel==2.15.0->tensorflow) (1.2.0)\n",
      "Requirement already satisfied: markdown>=2.6.8 in c:\\users\\3204480343\\downloads\\anaconda3\\lib\\site-packages (from tensorboard<2.16,>=2.15->tensorflow-intel==2.15.0->tensorflow) (3.4.1)\n",
      "Requirement already satisfied: requests<3,>=2.21.0 in c:\\users\\3204480343\\downloads\\anaconda3\\lib\\site-packages (from tensorboard<2.16,>=2.15->tensorflow-intel==2.15.0->tensorflow) (2.28.1)\n",
      "Requirement already satisfied: tensorboard-data-server<0.8.0,>=0.7.0 in c:\\users\\3204480343\\downloads\\anaconda3\\lib\\site-packages (from tensorboard<2.16,>=2.15->tensorflow-intel==2.15.0->tensorflow) (0.7.2)\n",
      "Requirement already satisfied: werkzeug>=1.0.1 in c:\\users\\3204480343\\downloads\\anaconda3\\lib\\site-packages (from tensorboard<2.16,>=2.15->tensorflow-intel==2.15.0->tensorflow) (2.2.2)\n",
      "Requirement already satisfied: cachetools<6.0,>=2.0.0 in c:\\users\\3204480343\\downloads\\anaconda3\\lib\\site-packages (from google-auth<3,>=1.6.3->tensorboard<2.16,>=2.15->tensorflow-intel==2.15.0->tensorflow) (5.3.2)\n",
      "Requirement already satisfied: pyasn1-modules>=0.2.1 in c:\\users\\3204480343\\downloads\\anaconda3\\lib\\site-packages (from google-auth<3,>=1.6.3->tensorboard<2.16,>=2.15->tensorflow-intel==2.15.0->tensorflow) (0.2.8)\n",
      "Requirement already satisfied: rsa<5,>=3.1.4 in c:\\users\\3204480343\\downloads\\anaconda3\\lib\\site-packages (from google-auth<3,>=1.6.3->tensorboard<2.16,>=2.15->tensorflow-intel==2.15.0->tensorflow) (4.9)\n",
      "Requirement already satisfied: requests-oauthlib>=0.7.0 in c:\\users\\3204480343\\downloads\\anaconda3\\lib\\site-packages (from google-auth-oauthlib<2,>=0.5->tensorboard<2.16,>=2.15->tensorflow-intel==2.15.0->tensorflow) (1.3.1)\n",
      "Requirement already satisfied: charset-normalizer<3,>=2 in c:\\users\\3204480343\\downloads\\anaconda3\\lib\\site-packages (from requests<3,>=2.21.0->tensorboard<2.16,>=2.15->tensorflow-intel==2.15.0->tensorflow) (2.0.4)\n",
      "Requirement already satisfied: idna<4,>=2.5 in c:\\users\\3204480343\\downloads\\anaconda3\\lib\\site-packages (from requests<3,>=2.21.0->tensorboard<2.16,>=2.15->tensorflow-intel==2.15.0->tensorflow) (3.4)\n",
      "Requirement already satisfied: urllib3<1.27,>=1.21.1 in c:\\users\\3204480343\\downloads\\anaconda3\\lib\\site-packages (from requests<3,>=2.21.0->tensorboard<2.16,>=2.15->tensorflow-intel==2.15.0->tensorflow) (1.26.14)\n",
      "Requirement already satisfied: certifi>=2017.4.17 in c:\\users\\3204480343\\downloads\\anaconda3\\lib\\site-packages (from requests<3,>=2.21.0->tensorboard<2.16,>=2.15->tensorflow-intel==2.15.0->tensorflow) (2023.5.7)\n",
      "Requirement already satisfied: MarkupSafe>=2.1.1 in c:\\users\\3204480343\\downloads\\anaconda3\\lib\\site-packages (from werkzeug>=1.0.1->tensorboard<2.16,>=2.15->tensorflow-intel==2.15.0->tensorflow) (2.1.1)\n",
      "Requirement already satisfied: pyasn1<0.5.0,>=0.4.6 in c:\\users\\3204480343\\downloads\\anaconda3\\lib\\site-packages (from pyasn1-modules>=0.2.1->google-auth<3,>=1.6.3->tensorboard<2.16,>=2.15->tensorflow-intel==2.15.0->tensorflow) (0.4.8)\n",
      "Requirement already satisfied: oauthlib>=3.0.0 in c:\\users\\3204480343\\downloads\\anaconda3\\lib\\site-packages (from requests-oauthlib>=0.7.0->google-auth-oauthlib<2,>=0.5->tensorboard<2.16,>=2.15->tensorflow-intel==2.15.0->tensorflow) (3.2.2)\n"
     ]
    }
   ],
   "source": [
    "!pip install tensorflow"
   ]
  },
  {
   "cell_type": "code",
   "execution_count": 5,
   "id": "bf806794-9be2-43e1-8b4b-98e34d4a0e37",
   "metadata": {
    "collapsed": true,
    "jupyter": {
     "outputs_hidden": true
    },
    "tags": []
   },
   "outputs": [
    {
     "name": "stdout",
     "output_type": "stream",
     "text": [
      "Requirement already satisfied: graphviz in c:\\users\\3204480343\\downloads\\anaconda3\\lib\\site-packages (0.20.1)\n",
      "Note: you may need to restart the kernel to use updated packages.\n"
     ]
    },
    {
     "name": "stderr",
     "output_type": "stream",
     "text": [
      "Error processing line 1 of C:\\Users\\3204480343\\Downloads\\anaconda3\\lib\\site-packages\\vision-1.0.0-py3.10-nspkg.pth:\n",
      "\n",
      "  Traceback (most recent call last):\n",
      "    File \"C:\\Users\\3204480343\\Downloads\\anaconda3\\lib\\site.py\", line 186, in addpackage\n",
      "      exec(line)\n",
      "    File \"<string>\", line 1, in <module>\n",
      "    File \"<frozen importlib._bootstrap>\", line 568, in module_from_spec\n",
      "  AttributeError: 'NoneType' object has no attribute 'loader'\n",
      "\n",
      "Remainder of file ignored\n",
      "\n",
      "[notice] A new release of pip is available: 23.2.1 -> 23.3.2\n",
      "[notice] To update, run: python.exe -m pip install --upgrade pip\n"
     ]
    }
   ],
   "source": [
    "pip install graphviz"
   ]
  },
  {
   "cell_type": "code",
   "execution_count": 7,
   "id": "f426056f-b9ea-4ad5-91ac-84716a10ddba",
   "metadata": {
    "collapsed": true,
    "jupyter": {
     "outputs_hidden": true
    },
    "tags": []
   },
   "outputs": [
    {
     "name": "stdout",
     "output_type": "stream",
     "text": [
      "Requirement already satisfied: pydot in c:\\users\\3204480343\\downloads\\anaconda3\\lib\\site-packages (2.0.0)\n",
      "Collecting pydotplus\n",
      "  Downloading pydotplus-2.0.2.tar.gz (278 kB)\n",
      "     ---------------------------------------- 0.0/278.7 kB ? eta -:--:--\n",
      "     -------------------------- ----------- 194.6/278.7 kB 3.9 MB/s eta 0:00:01\n",
      "     -------------------------------------- 278.7/278.7 kB 2.9 MB/s eta 0:00:00\n",
      "  Preparing metadata (setup.py): started\n",
      "  Preparing metadata (setup.py): finished with status 'done'\n",
      "Requirement already satisfied: pyparsing>=3 in c:\\users\\3204480343\\downloads\\anaconda3\\lib\\site-packages (from pydot) (3.0.9)\n",
      "Building wheels for collected packages: pydotplus\n",
      "  Building wheel for pydotplus (setup.py): started\n",
      "  Building wheel for pydotplus (setup.py): finished with status 'done'\n",
      "  Created wheel for pydotplus: filename=pydotplus-2.0.2-py3-none-any.whl size=24578 sha256=09509b773596f8d5683c4d9cd29c2326722be81ba56b2b77cf405bb21b78bb56\n",
      "  Stored in directory: c:\\users\\3204480343\\appdata\\local\\pip\\cache\\wheels\\69\\b2\\67\\08f0eef649af92df772c09f451558298e07fab1bc7cdf33db0\n",
      "Successfully built pydotplus\n",
      "Installing collected packages: pydotplus\n",
      "Successfully installed pydotplus-2.0.2\n",
      "Note: you may need to restart the kernel to use updated packages.\n"
     ]
    },
    {
     "name": "stderr",
     "output_type": "stream",
     "text": [
      "Error processing line 1 of C:\\Users\\3204480343\\Downloads\\anaconda3\\lib\\site-packages\\vision-1.0.0-py3.10-nspkg.pth:\n",
      "\n",
      "  Traceback (most recent call last):\n",
      "    File \"C:\\Users\\3204480343\\Downloads\\anaconda3\\lib\\site.py\", line 186, in addpackage\n",
      "      exec(line)\n",
      "    File \"<string>\", line 1, in <module>\n",
      "    File \"<frozen importlib._bootstrap>\", line 568, in module_from_spec\n",
      "  AttributeError: 'NoneType' object has no attribute 'loader'\n",
      "\n",
      "Remainder of file ignored\n",
      "\n",
      "[notice] A new release of pip is available: 23.2.1 -> 23.3.2\n",
      "[notice] To update, run: python.exe -m pip install --upgrade pip\n"
     ]
    }
   ],
   "source": [
    "pip install pydot pydotplus"
   ]
  },
  {
   "cell_type": "markdown",
   "id": "fd7f7df3-db1a-43e4-8cd1-fc7325cb9e06",
   "metadata": {},
   "source": [
    "-importazione delle librerie utili per il problema.\n",
    "-impostazione semi per i generatori di numeri casuali di NumPy e TensorFlow.  utile per garantire la riproducibilità dei risultati quando si utilizzano operazioni che coinvolgono numeri casuali\n",
    "-configurare la visualizzazione dei grafici generati da Matplotlib"
   ]
  },
  {
   "cell_type": "code",
   "execution_count": 8,
   "id": "56759ef1-f79d-4a2e-abed-e11ff4657adc",
   "metadata": {
    "tags": []
   },
   "outputs": [
    {
     "name": "stdout",
     "output_type": "stream",
     "text": [
      "WARNING:tensorflow:From C:\\Users\\3204480343\\Downloads\\anaconda3\\lib\\site-packages\\keras\\src\\losses.py:2976: The name tf.losses.sparse_softmax_cross_entropy is deprecated. Please use tf.compat.v1.losses.sparse_softmax_cross_entropy instead.\n",
      "\n",
      "Done!\n"
     ]
    }
   ],
   "source": [
    "import tensorflow as tf\n",
    "from tensorflow import keras\n",
    "import numpy as np\n",
    "import os\n",
    "import pandas as pd\n",
    "from sklearn.model_selection import train_test_split\n",
    "\n",
    "# to make this notebook's output stable across runs\n",
    "np.random.seed(42)\n",
    "tf.random.set_seed(42)\n",
    "\n",
    "# To plot pretty figures\n",
    "%matplotlib inline\n",
    "import matplotlib as mpl\n",
    "import matplotlib.pyplot as plt\n",
    "mpl.rc('axes', labelsize=14)\n",
    "mpl.rc('xtick', labelsize=12)\n",
    "mpl.rc('ytick', labelsize=12)\n",
    "print(\"Done!\")"
   ]
  },
  {
   "cell_type": "markdown",
   "id": "42b0dcb4-d09b-4fcd-9390-fbe2251b32f4",
   "metadata": {
    "tags": []
   },
   "source": [
    "Let's start by loading the fashion MNIST dataset. Keras has a number of functions to load popular datasets in `keras.datasets`. The dataset is already split for you between a training set and a test set, but it can be useful to split the training set further to have a validation set:"
   ]
  },
  {
   "cell_type": "markdown",
   "id": "e4e0aceb-cb45-41ae-812c-61f0f824b1b9",
   "metadata": {},
   "source": [
    "caricare i dati, separare le immagini dalle etichette, ed effettuare il reshaping delle immagini da 784x1 a 28x28"
   ]
  },
  {
   "cell_type": "code",
   "execution_count": 9,
   "id": "651c85e3-990a-487e-b669-fac14c90c23a",
   "metadata": {
    "tags": []
   },
   "outputs": [
    {
     "name": "stdout",
     "output_type": "stream",
     "text": [
      "Done!\n"
     ]
    }
   ],
   "source": [
    "df = pd.read_csv(\"emnist-letters.csv\") #carica i dati in df\n",
    "\n",
    "#separa le immagini dalle etichette e effettua reshuaping in 28x28\n",
    "X = df.iloc[:,1:].to_numpy().reshape(-1, 28, 28, order=\"F\")\n",
    "y = df.iloc[:,0].to_numpy()-1  # Sottrai 1 per avere etichette da 0 a 25\n",
    "\n",
    "X_train_full, X_test, y_train_full, y_test = train_test_split(X, y, test_size=0.2) #random_state=42\n",
    "\n",
    "print(\"Done!\")"
   ]
  },
  {
   "cell_type": "markdown",
   "id": "2ee6714d-df6a-460b-b5d4-fe6161282e23",
   "metadata": {},
   "source": [
    "The training set contains 71039 grayscale images, each 28x28 pixels:"
   ]
  },
  {
   "cell_type": "code",
   "execution_count": 10,
   "id": "09088dfd-234d-46b0-ac42-7538eaa30858",
   "metadata": {},
   "outputs": [
    {
     "name": "stdout",
     "output_type": "stream",
     "text": [
      "Dimensioni X_train_full: (71040, 28, 28)\n",
      "Dimensioni y_train_full: (71040,)\n",
      "Dimensioni X_test: (17760, 28, 28)\n",
      "Dimensioni y_test: (17760,)\n",
      "Done!\n"
     ]
    }
   ],
   "source": [
    "#verifiche delle dimensioni\n",
    "print(\"Dimensioni X_train_full:\", X_train_full.shape)\n",
    "print(\"Dimensioni y_train_full:\", y_train_full.shape)\n",
    "print(\"Dimensioni X_test:\", X_test.shape)\n",
    "print(\"Dimensioni y_test:\", y_test.shape)\n",
    "print(\"Done!\")"
   ]
  },
  {
   "cell_type": "markdown",
   "id": "1ab56d48-126a-44f4-a5f0-80f9845b8a00",
   "metadata": {},
   "source": [
    "Each pixel intensity is represented as a byte (0 to 255):"
   ]
  },
  {
   "cell_type": "code",
   "execution_count": 11,
   "id": "56abb1ce-3c7f-4110-aa77-a10435b005b0",
   "metadata": {},
   "outputs": [
    {
     "name": "stdout",
     "output_type": "stream",
     "text": [
      "int64\n",
      "int64\n",
      "int64\n",
      "int64\n",
      "Done!\n"
     ]
    }
   ],
   "source": [
    "#meglio trasformali in uint8 perchè piu efficienti in termini di memoria, considerando che non \n",
    "#abbiamo bisogno di interi negativi e di questo spazio di memoria occupato\n",
    "print(X_train_full.dtype) #int64, cioè i dati sono rappresentati come numeri interi a 64 bit\n",
    "print(y_train_full.dtype)\n",
    "print(X_test.dtype)\n",
    "print(y_test.dtype)\n",
    "print(\"Done!\")"
   ]
  },
  {
   "cell_type": "markdown",
   "id": "a94e9a0d-c06d-46b4-8651-0364c8ebd09b",
   "metadata": {},
   "source": [
    "Converto i dati in uint8 perche hanno un range fino a 255, quindi occupo meno spazio in memoria"
   ]
  },
  {
   "cell_type": "code",
   "execution_count": 12,
   "id": "3e81ccab-f3aa-4428-8f34-bc07d3283e02",
   "metadata": {},
   "outputs": [
    {
     "name": "stdout",
     "output_type": "stream",
     "text": [
      "uint8\n",
      "uint8\n",
      "uint8\n",
      "uint8\n",
      "Done!\n"
     ]
    }
   ],
   "source": [
    "X_train_full = X_train_full.astype(np.uint8)\n",
    "y_train_full = y_train_full.astype(np.uint8)\n",
    "X_test = X_test.astype(np.uint8)\n",
    "y_test = y_test.astype(np.uint8)\n",
    "\n",
    "print(X_train_full.dtype)\n",
    "print(y_train_full.dtype)\n",
    "print(X_test.dtype)\n",
    "print(y_test.dtype)\n",
    "print(\"Done!\")"
   ]
  },
  {
   "cell_type": "markdown",
   "id": "d5dd3d7e-15b0-48ac-b03f-f337744462ca",
   "metadata": {},
   "source": [
    "Let's split the full training set into a validation set and a (smaller) training set. We also scale the pixel intensities down to the 0-1 range and convert them to floats, by dividing by 255."
   ]
  },
  {
   "cell_type": "code",
   "execution_count": 13,
   "id": "08a0d618-07f5-438a-be2a-c07c7207a2fc",
   "metadata": {},
   "outputs": [
    {
     "name": "stdout",
     "output_type": "stream",
     "text": [
      "Done!\n",
      "1\n"
     ]
    }
   ],
   "source": [
    "#utilizziamo i primi 5000 campioni come validation set\n",
    "X_valid, X_train = X_train_full[:5000] / 255., X_train_full[5000:] / 255.\n",
    "y_valid, y_train = y_train_full[:5000], y_train_full[5000:]\n",
    "X_test = X_test / 255.\n",
    "print(\"Done!\")\n",
    "print(y_train[0])"
   ]
  },
  {
   "cell_type": "markdown",
   "id": "28521369-8042-45c2-976f-773de2818b73",
   "metadata": {},
   "source": [
    "You can plot an image using Matplotlib's `imshow()` function, with a `'binary'`\n",
    " color map:"
   ]
  },
  {
   "cell_type": "code",
   "execution_count": 14,
   "id": "411b301d-e17b-42dd-b793-84e73e31dad0",
   "metadata": {},
   "outputs": [
    {
     "data": {
      "image/png": "[encoded data removed]",
      "text/plain": [
       "<Figure size 640x480 with 1 Axes>"
      ]
     },
     "metadata": {},
     "output_type": "display_data"
    },
    {
     "name": "stdout",
     "output_type": "stream",
     "text": [
      "Done!\n",
      "1\n"
     ]
    }
   ],
   "source": [
    "plt.imshow(X_train[0], cmap=\"binary\")\n",
    "plt.axis('off')\n",
    "plt.show()\n",
    "print(\"Done!\")\n",
    "print(y_train[0])"
   ]
  },
  {
   "cell_type": "markdown",
   "id": "be387a3c-202d-4f83-ac48-94049cb80a24",
   "metadata": {},
   "source": [
    "The labels are the class IDs (represented as int64), from 0 to 25:"
   ]
  },
  {
   "cell_type": "code",
   "execution_count": 15,
   "id": "89fd7eb3-b81b-42c4-962c-c99ba9183a8b",
   "metadata": {},
   "outputs": [
    {
     "name": "stdout",
     "output_type": "stream",
     "text": [
      "[ 1 11 17 ...  6  3 12]\n",
      "Elementi unici: [ 0  1  2  3  4  5  6  7  8  9 10 11 12 13 14 15 16 17 18 19 20 21 22 23\n",
      " 24 25]\n",
      "Conteggio degli elementi: [2519 2556 2561 2505 2580 2493 2527 2587 2527 2490 2541 2517 2548 2522\n",
      " 2517 2565 2541 2518 2552 2560 2527 2534 2556 2573 2548 2576]\n",
      "Done!\n"
     ]
    }
   ],
   "source": [
    "print(y_train)\n",
    "unique_elements, counts = np.unique(y_train, return_counts=True)\n",
    "print(\"Elementi unici:\", unique_elements) #etichette...c'è anche -1, ma non ce dovrebbe sta\n",
    "print(\"Conteggio degli elementi:\", counts) #distribuzione\n",
    "print(\"Done!\")"
   ]
  },
  {
   "cell_type": "markdown",
   "id": "0b51fc02-6dd9-4703-b877-c0737afb1ed2",
   "metadata": {},
   "source": [
    "Here are the corresponding class names:"
   ]
  },
  {
   "cell_type": "code",
   "execution_count": 16,
   "id": "fae84d15-37e3-49dc-a909-5dfc3a6ecc5a",
   "metadata": {},
   "outputs": [
    {
     "name": "stdout",
     "output_type": "stream",
     "text": [
      "Done!\n"
     ]
    }
   ],
   "source": [
    "class_names = [\"A\", \"B\", \"C\", \"D\", \"E\", \"F\", \"G\", \"H\", \"I\", \"J\", \"K\", \"L\", \"M\", \"N\", \"O\", \"P\",\n",
    "              \"Q\", \"R\", \"S\", \"T\", \"U\", \"V\", \"W\", \"X\", \"Y\", \"Z\",]\n",
    "print(\"Done!\")"
   ]
  },
  {
   "cell_type": "markdown",
   "id": "13d1e39a-5840-41a3-a96f-ae877e4ccb68",
   "metadata": {},
   "source": [
    "So the first image in the training set is a:"
   ]
  },
  {
   "cell_type": "code",
   "execution_count": 17,
   "id": "59697c7a-b111-4363-8634-1ff413338af4",
   "metadata": {},
   "outputs": [
    {
     "name": "stdout",
     "output_type": "stream",
     "text": [
      "B\n",
      "Done!\n"
     ]
    }
   ],
   "source": [
    "print(class_names[y_train[0]])\n",
    "print(\"Done!\")"
   ]
  },
  {
   "cell_type": "markdown",
   "id": "a4684ee4-4ac6-4e95-a2f5-32f1f2b67040",
   "metadata": {},
   "source": [
    "The validation set contains 5,000 images, and the test set contains 17,760 images:"
   ]
  },
  {
   "cell_type": "code",
   "execution_count": 18,
   "id": "3dac8d66-a28f-45f6-b660-f7ff81f2698c",
   "metadata": {},
   "outputs": [
    {
     "name": "stdout",
     "output_type": "stream",
     "text": [
      "(5000, 28, 28)\n",
      "Done!\n"
     ]
    }
   ],
   "source": [
    "print(X_valid.shape)\n",
    "print(\"Done!\")"
   ]
  },
  {
   "cell_type": "code",
   "execution_count": 19,
   "id": "e85cc0c9-f4e5-441d-b7a0-a5a67cb2cfe4",
   "metadata": {},
   "outputs": [
    {
     "name": "stdout",
     "output_type": "stream",
     "text": [
      "(17760, 28, 28)\n",
      "Done!\n"
     ]
    }
   ],
   "source": [
    "print(X_test.shape)\n",
    "print(\"Done!\")"
   ]
  },
  {
   "cell_type": "markdown",
   "id": "b5c08be6-2938-4447-b7e2-664c328225d9",
   "metadata": {},
   "source": [
    "Let's take a look at a sample of the images in the dataset:"
   ]
  },
  {
   "cell_type": "code",
   "execution_count": 20,
   "id": "2eb0e284-c254-4a29-9ec8-f1eff1ca4f7e",
   "metadata": {},
   "outputs": [
    {
     "data": {
      "image/png": "[encoded data removed]",
      "text/plain": [
       "<Figure size 1200x480 with 40 Axes>"
      ]
     },
     "metadata": {},
     "output_type": "display_data"
    },
    {
     "name": "stdout",
     "output_type": "stream",
     "text": [
      "Done!\n"
     ]
    }
   ],
   "source": [
    "#Definisco il numero di righe e colonne nell'array di grafici\n",
    "n_rows = 4\n",
    "n_cols = 10\n",
    "\n",
    "#Crea una figura di matplotlib con una dimensione totale calcolata in base al numero di colonne e righe specificato, \n",
    "#moltiplicato per 1.2 per ottenere uno spaziamento adeguato\n",
    "plt.figure(figsize=(n_cols * 1.2, n_rows * 1.2))\n",
    "\n",
    "\n",
    "for row in range(n_rows):\n",
    "    for col in range(n_cols):\n",
    "        index = n_cols * row + col\n",
    "        plt.subplot(n_rows, n_cols, index + 1)\n",
    "        plt.imshow(X_train[index], cmap=\"binary\", interpolation=\"nearest\")\n",
    "        plt.axis('off')\n",
    "        plt.title(class_names[y_train[index]], fontsize=12)\n",
    "plt.subplots_adjust(wspace=0.2, hspace=0.5)\n",
    "plt.show()\n",
    "print(\"Done!\")"
   ]
  },
  {
   "cell_type": "code",
   "execution_count": 21,
   "id": "83d62010-9dd3-4223-9152-6691b12b12f2",
   "metadata": {},
   "outputs": [
    {
     "name": "stdout",
     "output_type": "stream",
     "text": [
      "WARNING:tensorflow:From C:\\Users\\3204480343\\Downloads\\anaconda3\\lib\\site-packages\\keras\\src\\backend.py:873: The name tf.get_default_graph is deprecated. Please use tf.compat.v1.get_default_graph instead.\n",
      "\n",
      "Done!\n"
     ]
    }
   ],
   "source": [
    "#definisco un modello di rete neurale sequenziale utilizzando TensorFlow e Keras\n",
    "model = keras.models.Sequential()\n",
    "model.add(keras.layers.Flatten(input_shape=[28, 28])) #input di immagini 28x28\n",
    "model.add(keras.layers.Dense(300, activation=\"relu\"))\n",
    "model.add(keras.layers.Dense(100, activation=\"relu\"))\n",
    "model.add(keras.layers.Dense(26, activation=\"softmax\")) #26 etichette finali\n",
    "print(\"Done!\")"
   ]
  },
  {
   "cell_type": "code",
   "execution_count": 22,
   "id": "b96f5674-461c-41ff-8b95-114d90650946",
   "metadata": {},
   "outputs": [
    {
     "name": "stdout",
     "output_type": "stream",
     "text": [
      "Model: \"sequential\"\n",
      "_________________________________________________________________\n",
      " Layer (type)                Output Shape              Param #   \n",
      "=================================================================\n",
      " flatten (Flatten)           (None, 784)               0         \n",
      "                                                                 \n",
      " dense (Dense)               (None, 300)               235500    \n",
      "                                                                 \n",
      " dense_1 (Dense)             (None, 100)               30100     \n",
      "                                                                 \n",
      " dense_2 (Dense)             (None, 26)                2626      \n",
      "                                                                 \n",
      "=================================================================\n",
      "Total params: 268226 (1.02 MB)\n",
      "Trainable params: 268226 (1.02 MB)\n",
      "Non-trainable params: 0 (0.00 Byte)\n",
      "_________________________________________________________________\n",
      "Done!\n"
     ]
    }
   ],
   "source": [
    "#restituisce una rappresentazione testuale del modello, mostrando una panoramica degli strati, \n",
    "#delle forme degli input e degli output di ciascuno strato, nonché del numero totale di parametri addestrabili nel modello\n",
    "model.summary()\n",
    "print(\"Done!\")"
   ]
  },
  {
   "cell_type": "code",
   "execution_count": 23,
   "id": "aed3331e-b7f5-442b-94c3-6a326fb992db",
   "metadata": {},
   "outputs": [
    {
     "name": "stdout",
     "output_type": "stream",
     "text": [
      "You must install pydot (`pip install pydot`) and install graphviz (see instructions at https://graphviz.gitlab.io/download/) for plot_model to work.\n",
      "Done!\n"
     ]
    }
   ],
   "source": [
    "#generare un diagramma del modello e salvarlo come un file di immagine\n",
    "keras.utils.plot_model(model, \"my_letters_mnist_model.png\", show_shapes=True)\n",
    "# requires  pydot (`pip install pydot`) and graphviz \n",
    "print(\"Done!\")"
   ]
  },
  {
   "cell_type": "code",
   "execution_count": 24,
   "id": "33fe060e-edfa-411f-9a1b-f46719432aa1",
   "metadata": {},
   "outputs": [
    {
     "name": "stdout",
     "output_type": "stream",
     "text": [
      "WARNING:tensorflow:From C:\\Users\\3204480343\\Downloads\\anaconda3\\lib\\site-packages\\keras\\src\\optimizers\\__init__.py:309: The name tf.train.Optimizer is deprecated. Please use tf.compat.v1.train.Optimizer instead.\n",
      "\n",
      "Done!\n"
     ]
    }
   ],
   "source": [
    "model.compile(loss=\"sparse_categorical_crossentropy\", #funzione di perdita utilizzata\n",
    "              optimizer=\"sgd\", #ottimizzatore, stochastic gradient descent\n",
    "              metrics=[\"accuracy\"]) #matrica->accuracy (percentuale predizioni corrette su totali\n",
    "print(\"Done!\")"
   ]
  },
  {
   "cell_type": "markdown",
   "id": "8192b9af-d961-44e5-a50d-4f1bf96f67d4",
   "metadata": {},
   "source": [
    "This is equivalent to:"
   ]
  },
  {
   "cell_type": "markdown",
   "id": "d66e5d9d-9020-438b-b7ba-bf9d2d7851e4",
   "metadata": {},
   "source": [
    "```python\n",
    "model.compile(loss=keras.losses.sparse_categorical_crossentropy,\n",
    "              optimizer=keras.optimizers.SGD(),\n",
    "              metrics=[keras.metrics.sparse_categorical_accuracy])\n",
    "```"
   ]
  },
  {
   "cell_type": "markdown",
   "id": "10b65085-d10b-4196-8563-8f579227779b",
   "metadata": {},
   "source": [
    "Alleno il modello con 30 epoche secondo il training set e tenendo in considerazione il validation set"
   ]
  },
  {
   "cell_type": "code",
   "execution_count": 25,
   "id": "a23479f1-1e52-4329-bfea-e33629b491b8",
   "metadata": {},
   "outputs": [
    {
     "name": "stdout",
     "output_type": "stream",
     "text": [
      "Epoch 1/30\n",
      "WARNING:tensorflow:From C:\\Users\\3204480343\\Downloads\\anaconda3\\lib\\site-packages\\keras\\src\\utils\\tf_utils.py:492: The name tf.ragged.RaggedTensorValue is deprecated. Please use tf.compat.v1.ragged.RaggedTensorValue instead.\n",
      "\n",
      "WARNING:tensorflow:From C:\\Users\\3204480343\\Downloads\\anaconda3\\lib\\site-packages\\keras\\src\\engine\\base_layer_utils.py:384: The name tf.executing_eagerly_outside_functions is deprecated. Please use tf.compat.v1.executing_eagerly_outside_functions instead.\n",
      "\n",
      "2064/2064 [==============================] - 13s 6ms/step - loss: 1.6434 - accuracy: 0.5511 - val_loss: 1.1341 - val_accuracy: 0.6710\n",
      "Epoch 2/30\n",
      "2064/2064 [==============================] - 10s 5ms/step - loss: 0.9814 - accuracy: 0.7159 - val_loss: 0.9025 - val_accuracy: 0.7394\n",
      "Epoch 3/30\n",
      "2064/2064 [==============================] - 10s 5ms/step - loss: 0.7968 - accuracy: 0.7713 - val_loss: 0.7637 - val_accuracy: 0.7818\n",
      "Epoch 4/30\n",
      "2064/2064 [==============================] - 11s 5ms/step - loss: 0.6750 - accuracy: 0.8037 - val_loss: 0.6635 - val_accuracy: 0.8064\n",
      "Epoch 5/30\n",
      "2064/2064 [==============================] - 10s 5ms/step - loss: 0.5912 - accuracy: 0.8270 - val_loss: 0.5991 - val_accuracy: 0.8214\n",
      "Epoch 6/30\n",
      "2064/2064 [==============================] - 10s 5ms/step - loss: 0.5299 - accuracy: 0.8441 - val_loss: 0.5520 - val_accuracy: 0.8362\n",
      "Epoch 7/30\n",
      "2064/2064 [==============================] - 10s 5ms/step - loss: 0.4827 - accuracy: 0.8570 - val_loss: 0.5163 - val_accuracy: 0.8420\n",
      "Epoch 8/30\n",
      "2064/2064 [==============================] - 11s 5ms/step - loss: 0.4455 - accuracy: 0.8665 - val_loss: 0.4877 - val_accuracy: 0.8546\n",
      "Epoch 9/30\n",
      "2064/2064 [==============================] - 10s 5ms/step - loss: 0.4150 - accuracy: 0.8756 - val_loss: 0.4655 - val_accuracy: 0.8588\n",
      "Epoch 10/30\n",
      "2064/2064 [==============================] - 11s 5ms/step - loss: 0.3899 - accuracy: 0.8813 - val_loss: 0.4508 - val_accuracy: 0.8660\n",
      "Epoch 11/30\n",
      "2064/2064 [==============================] - 11s 5ms/step - loss: 0.3675 - accuracy: 0.8889 - val_loss: 0.4381 - val_accuracy: 0.8652\n",
      "Epoch 12/30\n",
      "2064/2064 [==============================] - 11s 5ms/step - loss: 0.3488 - accuracy: 0.8932 - val_loss: 0.4350 - val_accuracy: 0.8684\n",
      "Epoch 13/30\n",
      "2064/2064 [==============================] - 11s 5ms/step - loss: 0.3324 - accuracy: 0.8979 - val_loss: 0.4281 - val_accuracy: 0.8712\n",
      "Epoch 14/30\n",
      "2064/2064 [==============================] - 10s 5ms/step - loss: 0.3170 - accuracy: 0.9029 - val_loss: 0.4119 - val_accuracy: 0.8752\n",
      "Epoch 15/30\n",
      "2064/2064 [==============================] - 11s 5ms/step - loss: 0.3037 - accuracy: 0.9060 - val_loss: 0.4059 - val_accuracy: 0.8782\n",
      "Epoch 16/30\n",
      "2064/2064 [==============================] - 10s 5ms/step - loss: 0.2922 - accuracy: 0.9095 - val_loss: 0.3915 - val_accuracy: 0.8792\n",
      "Epoch 17/30\n",
      "2064/2064 [==============================] - 10s 5ms/step - loss: 0.2813 - accuracy: 0.9131 - val_loss: 0.3863 - val_accuracy: 0.8804\n",
      "Epoch 18/30\n",
      "2064/2064 [==============================] - 10s 5ms/step - loss: 0.2709 - accuracy: 0.9154 - val_loss: 0.3800 - val_accuracy: 0.8816\n",
      "Epoch 19/30\n",
      "2064/2064 [==============================] - 11s 5ms/step - loss: 0.2610 - accuracy: 0.9190 - val_loss: 0.3812 - val_accuracy: 0.8834\n",
      "Epoch 20/30\n",
      "2064/2064 [==============================] - 10s 5ms/step - loss: 0.2526 - accuracy: 0.9205 - val_loss: 0.3796 - val_accuracy: 0.8854\n",
      "Epoch 21/30\n",
      "2064/2064 [==============================] - 10s 5ms/step - loss: 0.2441 - accuracy: 0.9237 - val_loss: 0.3739 - val_accuracy: 0.8878\n",
      "Epoch 22/30\n",
      "2064/2064 [==============================] - 10s 5ms/step - loss: 0.2358 - accuracy: 0.9252 - val_loss: 0.3703 - val_accuracy: 0.8842\n",
      "Epoch 23/30\n",
      "2064/2064 [==============================] - 10s 5ms/step - loss: 0.2291 - accuracy: 0.9276 - val_loss: 0.3713 - val_accuracy: 0.8854\n",
      "Epoch 24/30\n",
      "2064/2064 [==============================] - 11s 5ms/step - loss: 0.2224 - accuracy: 0.9295 - val_loss: 0.3766 - val_accuracy: 0.8842\n",
      "Epoch 25/30\n",
      "2064/2064 [==============================] - 10s 5ms/step - loss: 0.2159 - accuracy: 0.9314 - val_loss: 0.3666 - val_accuracy: 0.8892\n",
      "Epoch 26/30\n",
      "2064/2064 [==============================] - 10s 5ms/step - loss: 0.2090 - accuracy: 0.9319 - val_loss: 0.3607 - val_accuracy: 0.8884\n",
      "Epoch 27/30\n",
      "2064/2064 [==============================] - 10s 5ms/step - loss: 0.2023 - accuracy: 0.9349 - val_loss: 0.3695 - val_accuracy: 0.8898\n",
      "Epoch 28/30\n",
      "2064/2064 [==============================] - 10s 5ms/step - loss: 0.1971 - accuracy: 0.9362 - val_loss: 0.3677 - val_accuracy: 0.8906\n",
      "Epoch 29/30\n",
      "2064/2064 [==============================] - 10s 5ms/step - loss: 0.1918 - accuracy: 0.9386 - val_loss: 0.3786 - val_accuracy: 0.8832\n",
      "Epoch 30/30\n",
      "2064/2064 [==============================] - 10s 5ms/step - loss: 0.1863 - accuracy: 0.9399 - val_loss: 0.3665 - val_accuracy: 0.8906\n",
      "Done!\n"
     ]
    }
   ],
   "source": [
    "history = model.fit(X_train, y_train, epochs=30,\n",
    "                    validation_data=(X_valid, y_valid))\n",
    "print(\"Done!\")"
   ]
  },
  {
   "cell_type": "markdown",
   "id": "570b97ac-d15b-4efe-82f6-6a4c9319f97b",
   "metadata": {},
   "source": [
    "Tracciamento delle curve di apprendimento"
   ]
  },
  {
   "cell_type": "code",
   "execution_count": 26,
   "id": "b0c5a9a9-e586-4528-8e9f-fa4e90f42091",
   "metadata": {},
   "outputs": [
    {
     "data": {
      "image/png": "[encoded data removed]",
      "text/plain": [
       "<Figure size 800x500 with 1 Axes>"
      ]
     },
     "metadata": {},
     "output_type": "display_data"
    },
    {
     "name": "stdout",
     "output_type": "stream",
     "text": [
      "Done!\n"
     ]
    }
   ],
   "source": [
    "import pandas as pd\n",
    "\n",
    "pd.DataFrame(history.history).plot(figsize=(8, 5))\n",
    "plt.grid(True)\n",
    "plt.gca().set_ylim(0, 1)\n",
    "plt.show()\n",
    "print(\"Done!\")"
   ]
  },
  {
   "cell_type": "markdown",
   "id": "adadae08-7279-4043-919f-9a953632a56d",
   "metadata": {},
   "source": [
    "valuta la rete addestrata sul test set"
   ]
  },
  {
   "cell_type": "code",
   "execution_count": 27,
   "id": "8df72f8d-c950-4e42-95f6-ca70ff4a4b12",
   "metadata": {},
   "outputs": [
    {
     "name": "stdout",
     "output_type": "stream",
     "text": [
      "555/555 [==============================] - 2s 3ms/step - loss: 0.3471 - accuracy: 0.8921\n",
      "Done!\n"
     ]
    }
   ],
   "source": [
    "model.evaluate(X_test, y_test)\n",
    "print(\"Done!\")"
   ]
  },
  {
   "cell_type": "markdown",
   "id": "49ab5c20-c0db-4ee4-9c47-f091c5d980b1",
   "metadata": {},
   "source": [
    "eseguo la previsione di probabilità sui primi 3 dati del test set (X_new) utilizzando\n",
    "il modello addestrato"
   ]
  },
  {
   "cell_type": "code",
   "execution_count": 28,
   "id": "929d8b7a-82df-496d-85df-7b5fb0e6395e",
   "metadata": {},
   "outputs": [
    {
     "name": "stdout",
     "output_type": "stream",
     "text": [
      "1/1 [==============================] - 0s 281ms/step\n",
      "[[0.   0.   0.   0.   0.   0.   0.   0.   0.   0.   0.   0.   0.   0.\n",
      "  0.   0.   0.   0.   0.   0.   0.99 0.   0.   0.   0.   0.  ]\n",
      " [0.   0.   0.   0.   0.   0.   0.   0.   0.   0.   0.   0.   0.   0.\n",
      "  0.   0.   0.   0.   0.   0.   0.   1.   0.   0.   0.   0.  ]\n",
      " [0.   0.   0.   0.   0.   0.   0.   0.   0.   0.   0.   0.   0.   0.\n",
      "  0.   0.   0.   0.   0.   1.   0.   0.   0.   0.   0.   0.  ]]\n",
      "Done!\n"
     ]
    }
   ],
   "source": [
    "X_new = X_test[:3]\n",
    "y_proba = model.predict(X_new)\n",
    "print(y_proba.round(2)) #ogni riga mi da la probabilità che appartenga a quell'etichetta\n",
    "print(\"Done!\")"
   ]
  },
  {
   "cell_type": "code",
   "execution_count": 29,
   "id": "5a486ea5-e8aa-46d1-9587-4d38dbedfe11",
   "metadata": {},
   "outputs": [
    {
     "name": "stdout",
     "output_type": "stream",
     "text": [
      "1/1 [==============================] - 0s 60ms/step\n",
      "['U' 'V' 'T']\n",
      "Done!\n"
     ]
    }
   ],
   "source": [
    "#mi da le etichette predette\n",
    "y_pred = np.argmax(model.predict(X_new), axis=-1)\n",
    "print(np.array(class_names)[y_pred]) #mi da le labels piu probabili\n",
    "print(\"Done!\")"
   ]
  },
  {
   "cell_type": "code",
   "execution_count": 30,
   "id": "512345bc-ea1a-4436-ae8a-1846603756d3",
   "metadata": {},
   "outputs": [
    {
     "name": "stdout",
     "output_type": "stream",
     "text": [
      "[20 21 19]\n",
      "U V T\n",
      "Done!\n"
     ]
    }
   ],
   "source": [
    "#mi da le etichette reali\n",
    "y_new = y_test[:3]\n",
    "print(y_new)\n",
    "print(class_names[y_new[0]], class_names[y_new[1]], class_names[y_new[2]])\n",
    "print(\"Done!\")"
   ]
  },
  {
   "cell_type": "code",
   "execution_count": 31,
   "id": "a904c3fb-a41c-4640-ac9c-d0a7210217ed",
   "metadata": {},
   "outputs": [
    {
     "data": {
      "image/png": "[encoded data removed]",
      "text/plain": [
       "<Figure size 720x240 with 3 Axes>"
      ]
     },
     "metadata": {},
     "output_type": "display_data"
    },
    {
     "name": "stdout",
     "output_type": "stream",
     "text": [
      "Done!\n"
     ]
    }
   ],
   "source": [
    "#mi grafico le immagini corrispondenti a questi 3 dati\n",
    "plt.figure(figsize=(7.2, 2.4))\n",
    "for index, image in enumerate(X_new):\n",
    "    plt.subplot(1, 3, index + 1)\n",
    "    plt.imshow(image, cmap=\"binary\", interpolation=\"nearest\")\n",
    "    plt.axis('off')\n",
    "    plt.title(class_names[y_test[index]], fontsize=12)\n",
    "plt.subplots_adjust(wspace=0.2, hspace=0.5)\n",
    "plt.show()\n",
    "print(\"Done!\")"
   ]
  },
  {
   "cell_type": "markdown",
   "id": "9c2518cd-9c8d-4f97-8f1b-5ce97d5806b4",
   "metadata": {
    "tags": []
   },
   "source": [
    "### Additional metrics"
   ]
  },
  {
   "cell_type": "code",
   "execution_count": 32,
   "id": "f434bdc2-1877-4903-9592-6a4ad8cd95c4",
   "metadata": {},
   "outputs": [
    {
     "name": "stdout",
     "output_type": "stream",
     "text": [
      "555/555 [==============================] - 2s 3ms/step\n",
      "              precision    recall  f1-score   support\n",
      "\n",
      "           0       0.79      0.92      0.85       695\n",
      "           1       0.91      0.91      0.91       657\n",
      "           2       0.94      0.92      0.93       653\n",
      "           3       0.84      0.93      0.88       695\n",
      "           4       0.94      0.93      0.94       661\n",
      "           5       0.94      0.93      0.94       698\n",
      "           6       0.74      0.80      0.77       657\n",
      "           7       0.91      0.89      0.90       657\n",
      "           8       0.70      0.80      0.74       693\n",
      "           9       0.91      0.91      0.91       719\n",
      "          10       0.93      0.90      0.91       703\n",
      "          11       0.78      0.67      0.72       713\n",
      "          12       0.97      0.94      0.96       649\n",
      "          13       0.92      0.89      0.90       655\n",
      "          14       0.92      0.95      0.94       713\n",
      "          15       0.93      0.95      0.94       678\n",
      "          16       0.87      0.67      0.76       724\n",
      "          17       0.88      0.90      0.89       719\n",
      "          18       0.94      0.95      0.95       640\n",
      "          19       0.92      0.94      0.93       678\n",
      "          20       0.91      0.91      0.91       692\n",
      "          21       0.91      0.90      0.91       695\n",
      "          22       0.92      0.97      0.95       697\n",
      "          23       0.95      0.92      0.94       658\n",
      "          24       0.92      0.88      0.90       707\n",
      "          25       0.96      0.94      0.95       654\n",
      "\n",
      "    accuracy                           0.89     17760\n",
      "   macro avg       0.89      0.89      0.89     17760\n",
      "weighted avg       0.89      0.89      0.89     17760\n",
      "\n",
      "Done!\n"
     ]
    }
   ],
   "source": [
    "#altre metriche per le 26 etichette\n",
    "from sklearn.metrics import classification_report\n",
    "y_pred = np.argmax(model.predict(X_test), axis=-1)\n",
    "\n",
    "print(classification_report(y_test, y_pred))\n",
    "print(\"Done!\")"
   ]
  },
  {
   "cell_type": "markdown",
   "id": "1a22c4e2-89cd-4300-b051-4e78a41bd283",
   "metadata": {},
   "source": [
    "## Saving and Restoring"
   ]
  },
  {
   "cell_type": "markdown",
   "id": "8723ecdd-8ce6-453f-9de7-21ff17aa6772",
   "metadata": {},
   "source": [
    "salvo l'intero modello, compresi i pesi e la configurazione, in un file nel formato HDF5."
   ]
  },
  {
   "cell_type": "code",
   "execution_count": 33,
   "id": "c74b43f1-ae45-41fd-bb18-f395b1afcf74",
   "metadata": {},
   "outputs": [
    {
     "name": "stdout",
     "output_type": "stream",
     "text": [
      "Done!\n"
     ]
    },
    {
     "name": "stderr",
     "output_type": "stream",
     "text": [
      "C:\\Users\\3204480343\\Downloads\\anaconda3\\lib\\site-packages\\keras\\src\\engine\\training.py:3103: UserWarning: You are saving your model as an HDF5 file via `model.save()`. This file format is considered legacy. We recommend using instead the native Keras format, e.g. `model.save('my_model.keras')`.\n",
      "  saving_api.save_model(\n"
     ]
    }
   ],
   "source": [
    "model.save(\"my_keras_model.h5\")\n",
    "print(\"Done!\")"
   ]
  },
  {
   "cell_type": "markdown",
   "id": "cb9bea49-058b-4555-918e-cb136d0419b4",
   "metadata": {},
   "source": [
    "carico il modello senza addestrarlo nuovamente"
   ]
  },
  {
   "cell_type": "code",
   "execution_count": 34,
   "id": "106f0b6f-8123-4097-be6c-e48243911a82",
   "metadata": {},
   "outputs": [
    {
     "name": "stdout",
     "output_type": "stream",
     "text": [
      "Done!\n"
     ]
    }
   ],
   "source": [
    "model = keras.models.load_model(\"my_keras_model.h5\")\n",
    "print(\"Done!\")"
   ]
  },
  {
   "cell_type": "code",
   "execution_count": 35,
   "id": "97709bc9-ce74-48eb-9b11-259464eb6361",
   "metadata": {},
   "outputs": [
    {
     "name": "stdout",
     "output_type": "stream",
     "text": [
      "1/1 [==============================] - 0s 228ms/step\n",
      "[[0.   0.   0.   0.   0.   0.   0.   0.   0.   0.   0.   0.   0.   0.\n",
      "  0.   0.   0.   0.   0.   0.   0.99 0.   0.   0.   0.   0.  ]\n",
      " [0.   0.   0.   0.   0.   0.   0.   0.   0.   0.   0.   0.   0.   0.\n",
      "  0.   0.   0.   0.   0.   0.   0.   1.   0.   0.   0.   0.  ]\n",
      " [0.   0.   0.   0.   0.   0.   0.   0.   0.   0.   0.   0.   0.   0.\n",
      "  0.   0.   0.   0.   0.   1.   0.   0.   0.   0.   0.   0.  ]]\n",
      "Done!\n"
     ]
    }
   ],
   "source": [
    "#prova che sia caricato, escono i stessi risultati sui 3 dati del test set\n",
    "y_proba = model.predict(X_new)\n",
    "print(y_proba.round(2))\n",
    "print(\"Done!\")"
   ]
  },
  {
   "cell_type": "markdown",
   "id": "5574dca6-a9e3-4664-b4d5-f4863060caf6",
   "metadata": {
    "tags": []
   },
   "source": [
    "# TensorBoard"
   ]
  },
  {
   "cell_type": "markdown",
   "id": "12042a71-9fa4-4de4-8b5d-40299f62cfdb",
   "metadata": {},
   "source": [
    "conterrà il percorso completo della directory di log principale, che potrebbe essere utilizzato, \n",
    "ad esempio, per organizzare i log in modo strutturato durante l'addestramento di modelli"
   ]
  },
  {
   "cell_type": "code",
   "execution_count": 36,
   "id": "446bf324-0708-4032-9c31-75fb7b1655a9",
   "metadata": {},
   "outputs": [
    {
     "name": "stdout",
     "output_type": "stream",
     "text": [
      "Done!\n"
     ]
    }
   ],
   "source": [
    "root_logdir = os.path.join(os.curdir, \"my_logs\")\n",
    "print(\"Done!\")"
   ]
  },
  {
   "cell_type": "markdown",
   "id": "3be35607-f590-4ce7-a248-11aa5edac561",
   "metadata": {},
   "source": [
    "In sintesi, questa struttura consente di organizzare i log in una struttura gerarchica \n",
    "basata sulla data e l'ora di esecuzione delle run del modello, il che può essere utile \n",
    "per tenere traccia dei vari addestramenti e delle relative registrazioni"
   ]
  },
  {
   "cell_type": "code",
   "execution_count": 37,
   "id": "55b1afea-512b-484f-a1e8-85c69169fd63",
   "metadata": {},
   "outputs": [
    {
     "name": "stdout",
     "output_type": "stream",
     "text": [
      ".\\my_logs\\run_2024_01_30-15_13_02\n",
      "Done!\n"
     ]
    }
   ],
   "source": [
    "def get_run_logdir():\n",
    "    import time\n",
    "    run_id = time.strftime(\"run_%Y_%m_%d-%H_%M_%S\")\n",
    "    return os.path.join(root_logdir, run_id)\n",
    "\n",
    "run_logdir = get_run_logdir()\n",
    "print(run_logdir)\n",
    "print(\"Done!\")"
   ]
  },
  {
   "cell_type": "markdown",
   "id": "6f05fcd8-6870-40e0-9be8-a19f6d10334f",
   "metadata": {},
   "source": [
    "creo una copia del modello esistente. La nuova istanza del modello sarà identica in termini\n",
    "di architettura, ma i pesi non saranno condivisi"
   ]
  },
  {
   "cell_type": "code",
   "execution_count": 38,
   "id": "a3288c58-6fc8-4752-a576-3bebff310ff9",
   "metadata": {},
   "outputs": [
    {
     "name": "stdout",
     "output_type": "stream",
     "text": [
      "Done!\n"
     ]
    }
   ],
   "source": [
    "model = tf.keras.models.clone_model(model) #creo una copia del modello esistente\n",
    "\n",
    "#ricompilo il modello nello stesso modo di sopra\n",
    "model.compile(loss=\"sparse_categorical_crossentropy\",\n",
    "              optimizer=\"sgd\",\n",
    "              metrics=[\"accuracy\"])\n",
    "print(\"Done!\")"
   ]
  },
  {
   "cell_type": "markdown",
   "id": "a5218d43-a78e-4f6f-9fd7-fa9f3d51acfb",
   "metadata": {},
   "source": [
    "To start the TensorBoard server, one option is to open a terminal, if needed activate the virtualenv where you installed TensorBoard, go to this notebook's directory, then type:\n",
    "\n",
    "```bash\n",
    "$ tensorboard --logdir=./my_logs --port=6006\n",
    "```\n",
    "\n",
    "You can then open your web browser to [localhost:6006](http://localhost:6006) and use TensorBoard. \n",
    "Alternatively, you can load TensorBoard using a Jupyter/Colab extension and run it like this:"
   ]
  },
  {
   "cell_type": "markdown",
   "id": "9143a940-d28a-4701-876d-98717fe35dcf",
   "metadata": {},
   "source": [
    "avviare TensorBoard, uno strumento di visualizzazione interattivo fornito con TensorFlow per\n",
    "monitorare e analizzare l'addestramento di modelli di machine learning\n",
    "-%load_ext tensorboard: Carica l'estensione TensorBoard in Jupyter Notebook.\n",
    "-%tensorboard --logdir=./my_logs --port=6006: Avvia TensorBoard specificando la directory dei \n",
    "log (--logdir=./my_logs) e la porta (--port=6006). TensorBoard verrà eseguito sulla porta 6006\n",
    "\n",
    "Dopo aver eseguito questo codice, puoi accedere a TensorBoard nel tuo browser all'indirizzo http://localhost:6006/. Questo ti fornirà una visualizzazione interattiva delle curve di apprendimento, delle distribuzioni dei pesi, delle attività degli strati e altro ancora, rendendo più facile comprendere e monitorare le prestazioni del modello durante l'addestramento"
   ]
  },
  {
   "cell_type": "code",
   "execution_count": 39,
   "id": "fae0af2c-3f09-46fb-bb39-5bfc7c9a2876",
   "metadata": {},
   "outputs": [
    {
     "data": {
      "text/plain": [
       "Reusing TensorBoard on port 6006 (pid 14720), started 2 days, 22:38:43 ago. (Use '!kill 14720' to kill it.)"
      ]
     },
     "metadata": {},
     "output_type": "display_data"
    },
    {
     "data": {
      "text/html": [
       "\n",
       "      <iframe id=\"tensorboard-frame-3eb2033cbef960db\" width=\"100%\" height=\"800\" frameborder=\"0\">\n",
       "      </iframe>\n",
       "      <script>\n",
       "        (function() {\n",
       "          const frame = document.getElementById(\"tensorboard-frame-3eb2033cbef960db\");\n",
       "          const url = new URL(\"/\", window.location);\n",
       "          const port = 6006;\n",
       "          if (port) {\n",
       "            url.port = port;\n",
       "          }\n",
       "          frame.src = url;\n",
       "        })();\n",
       "      </script>\n",
       "    "
      ],
      "text/plain": [
       "<IPython.core.display.HTML object>"
      ]
     },
     "metadata": {},
     "output_type": "display_data"
    },
    {
     "name": "stdout",
     "output_type": "stream",
     "text": [
      "Done!\n"
     ]
    }
   ],
   "source": [
    "%load_ext tensorboard\n",
    "%tensorboard --logdir=./my_logs --port=6006\n",
    "print(\"Done!\")"
   ]
  },
  {
   "cell_type": "markdown",
   "id": "e5142998-8504-4afe-a06a-129c707bf0f3",
   "metadata": {},
   "source": [
    "utilizza il callback TensorBoard di TensorFlow/Keras durante l'addestramento del modello"
   ]
  },
  {
   "cell_type": "code",
   "execution_count": 40,
   "id": "9e57a7de-7b4b-4ebd-a514-eac4525b7d54",
   "metadata": {},
   "outputs": [
    {
     "name": "stdout",
     "output_type": "stream",
     "text": [
      "Epoch 1/30\n",
      "2064/2064 [==============================] - 13s 6ms/step - loss: 1.6497 - accuracy: 0.5520 - val_loss: 1.1402 - val_accuracy: 0.6676\n",
      "Epoch 2/30\n",
      "2064/2064 [==============================] - 11s 5ms/step - loss: 0.9876 - accuracy: 0.7148 - val_loss: 0.9097 - val_accuracy: 0.7438\n",
      "Epoch 3/30\n",
      "2064/2064 [==============================] - 11s 5ms/step - loss: 0.8053 - accuracy: 0.7693 - val_loss: 0.7767 - val_accuracy: 0.7764\n",
      "Epoch 4/30\n",
      "2064/2064 [==============================] - 11s 5ms/step - loss: 0.6841 - accuracy: 0.8013 - val_loss: 0.6744 - val_accuracy: 0.8076\n",
      "Epoch 5/30\n",
      "2064/2064 [==============================] - 11s 6ms/step - loss: 0.5988 - accuracy: 0.8245 - val_loss: 0.6087 - val_accuracy: 0.8222\n",
      "Epoch 6/30\n",
      "2064/2064 [==============================] - 12s 6ms/step - loss: 0.5375 - accuracy: 0.8418 - val_loss: 0.5650 - val_accuracy: 0.8288\n",
      "Epoch 7/30\n",
      "2064/2064 [==============================] - 12s 6ms/step - loss: 0.4896 - accuracy: 0.8556 - val_loss: 0.5276 - val_accuracy: 0.8404\n",
      "Epoch 8/30\n",
      "2064/2064 [==============================] - 11s 5ms/step - loss: 0.4521 - accuracy: 0.8644 - val_loss: 0.4979 - val_accuracy: 0.8490\n",
      "Epoch 9/30\n",
      "2064/2064 [==============================] - 11s 5ms/step - loss: 0.4215 - accuracy: 0.8735 - val_loss: 0.4762 - val_accuracy: 0.8554\n",
      "Epoch 10/30\n",
      "2064/2064 [==============================] - 11s 6ms/step - loss: 0.3960 - accuracy: 0.8804 - val_loss: 0.4632 - val_accuracy: 0.8600\n",
      "Epoch 11/30\n",
      "2064/2064 [==============================] - 12s 6ms/step - loss: 0.3741 - accuracy: 0.8860 - val_loss: 0.4458 - val_accuracy: 0.8654\n",
      "Epoch 12/30\n",
      "2064/2064 [==============================] - 12s 6ms/step - loss: 0.3546 - accuracy: 0.8912 - val_loss: 0.4446 - val_accuracy: 0.8606\n",
      "Epoch 13/30\n",
      "2064/2064 [==============================] - 11s 5ms/step - loss: 0.3381 - accuracy: 0.8963 - val_loss: 0.4334 - val_accuracy: 0.8664\n",
      "Epoch 14/30\n",
      "2064/2064 [==============================] - 11s 5ms/step - loss: 0.3228 - accuracy: 0.9003 - val_loss: 0.4198 - val_accuracy: 0.8700\n",
      "Epoch 15/30\n",
      "2064/2064 [==============================] - 11s 5ms/step - loss: 0.3086 - accuracy: 0.9038 - val_loss: 0.4141 - val_accuracy: 0.8740\n",
      "Epoch 16/30\n",
      "2064/2064 [==============================] - 12s 6ms/step - loss: 0.2971 - accuracy: 0.9073 - val_loss: 0.4047 - val_accuracy: 0.8748\n",
      "Epoch 17/30\n",
      "2064/2064 [==============================] - 12s 6ms/step - loss: 0.2859 - accuracy: 0.9103 - val_loss: 0.3925 - val_accuracy: 0.8776\n",
      "Epoch 18/30\n",
      "2064/2064 [==============================] - 11s 5ms/step - loss: 0.2753 - accuracy: 0.9135 - val_loss: 0.3935 - val_accuracy: 0.8758\n",
      "Epoch 19/30\n",
      "2064/2064 [==============================] - 12s 6ms/step - loss: 0.2654 - accuracy: 0.9154 - val_loss: 0.3910 - val_accuracy: 0.8798\n",
      "Epoch 20/30\n",
      "2064/2064 [==============================] - 11s 5ms/step - loss: 0.2566 - accuracy: 0.9187 - val_loss: 0.3870 - val_accuracy: 0.8806\n",
      "Epoch 21/30\n",
      "2064/2064 [==============================] - 12s 6ms/step - loss: 0.2482 - accuracy: 0.9207 - val_loss: 0.3812 - val_accuracy: 0.8798\n",
      "Epoch 22/30\n",
      "2064/2064 [==============================] - 12s 6ms/step - loss: 0.2399 - accuracy: 0.9228 - val_loss: 0.3816 - val_accuracy: 0.8828\n",
      "Epoch 23/30\n",
      "2064/2064 [==============================] - 12s 6ms/step - loss: 0.2331 - accuracy: 0.9252 - val_loss: 0.3746 - val_accuracy: 0.8862\n",
      "Epoch 24/30\n",
      "2064/2064 [==============================] - 12s 6ms/step - loss: 0.2256 - accuracy: 0.9267 - val_loss: 0.3879 - val_accuracy: 0.8828\n",
      "Epoch 25/30\n",
      "2064/2064 [==============================] - 11s 5ms/step - loss: 0.2192 - accuracy: 0.9299 - val_loss: 0.3791 - val_accuracy: 0.8838\n",
      "Epoch 26/30\n",
      "2064/2064 [==============================] - 11s 5ms/step - loss: 0.2125 - accuracy: 0.9310 - val_loss: 0.3671 - val_accuracy: 0.8844\n",
      "Epoch 27/30\n",
      "2064/2064 [==============================] - 13s 6ms/step - loss: 0.2057 - accuracy: 0.9334 - val_loss: 0.3738 - val_accuracy: 0.8840\n",
      "Epoch 28/30\n",
      "2064/2064 [==============================] - 12s 6ms/step - loss: 0.2008 - accuracy: 0.9348 - val_loss: 0.3735 - val_accuracy: 0.8880\n",
      "Epoch 29/30\n",
      "2064/2064 [==============================] - 11s 5ms/step - loss: 0.1948 - accuracy: 0.9371 - val_loss: 0.3798 - val_accuracy: 0.8838\n",
      "Epoch 30/30\n",
      "2064/2064 [==============================] - 11s 6ms/step - loss: 0.1896 - accuracy: 0.9396 - val_loss: 0.3674 - val_accuracy: 0.8876\n",
      "Done!\n"
     ]
    }
   ],
   "source": [
    "tensorboard_cb = keras.callbacks.TensorBoard(run_logdir)\n",
    "history = model.fit(X_train, y_train, epochs=30,\n",
    "                    validation_data=(X_valid, y_valid),\n",
    "                    callbacks=[tensorboard_cb])\n",
    "print(\"Done!\")"
   ]
  },
  {
   "cell_type": "code",
   "execution_count": null,
   "id": "e007c061-8326-409a-9757-831b5ba69cd0",
   "metadata": {},
   "outputs": [],
   "source": []
  }
 ],
 "metadata": {
  "kernelspec": {
   "display_name": "Python 3 (ipykernel)",
   "language": "python",
   "name": "python3"
  },
  "language_info": {
   "codemirror_mode": {
    "name": "ipython",
    "version": 3
   },
   "file_extension": ".py",
   "mimetype": "text/x-python",
   "name": "python",
   "nbconvert_exporter": "python",
   "pygments_lexer": "ipython3",
   "version": "3.10.9"
  }
 },
 "nbformat": 4,
 "nbformat_minor": 5
}
